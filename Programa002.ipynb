{
  "nbformat": 4,
  "nbformat_minor": 0,
  "metadata": {
    "colab": {
      "provenance": [],
      "collapsed_sections": [
        "HMJMON-DefuR",
        "aU5eHCBggnjv"
      ],
      "authorship_tag": "ABX9TyPhU0C+ig8M2+zJiCbBY2DN",
      "include_colab_link": true
    },
    "kernelspec": {
      "name": "python3",
      "display_name": "Python 3"
    },
    "language_info": {
      "name": "python"
    }
  },
  "cells": [
    {
      "cell_type": "markdown",
      "metadata": {
        "id": "view-in-github",
        "colab_type": "text"
      },
      "source": [
        "<a href=\"https://colab.research.google.com/github/C-Junior-ENG/LP/blob/main/Programa002.ipynb\" target=\"_parent\"><img src=\"https://colab.research.google.com/assets/colab-badge.svg\" alt=\"Open In Colab\"/></a>"
      ]
    },
    {
      "cell_type": "markdown",
      "source": [
        "#Primeiro programa aula prof. Massaki#"
      ],
      "metadata": {
        "id": "HMJMON-DefuR"
      }
    },
    {
      "cell_type": "code",
      "execution_count": null,
      "metadata": {
        "colab": {
          "base_uri": "https://localhost:8080/"
        },
        "id": "83TLDkV-d3-o",
        "outputId": "13c9dc98-c02e-43e3-b01f-ab9af4b9f46e"
      },
      "outputs": [
        {
          "output_type": "stream",
          "name": "stdout",
          "text": [
            "<class 'int'>\n",
            "<class 'float'>\n",
            "<class 'float'>\n",
            "5.0\n"
          ]
        }
      ],
      "source": [
        "a=2\n",
        "print(type(a))\n",
        "b=3.0\n",
        "print(type(b))\n",
        "soma=a+b\n",
        "print(type(soma))\n",
        "print(soma)"
      ]
    },
    {
      "cell_type": "markdown",
      "source": [
        "#Importância dos tipos de dados#"
      ],
      "metadata": {
        "id": "aU5eHCBggnjv"
      }
    },
    {
      "cell_type": "code",
      "source": [
        "num=int(input(\"Digite um número inteiro:\"))\n",
        "print(type(num))\n",
        "quoc=num//2\n",
        "resto=num%2\n",
        "print(\"quociente=\",quoc)\n",
        "print(\"resto\", resto)"
      ],
      "metadata": {
        "colab": {
          "base_uri": "https://localhost:8080/"
        },
        "id": "1WWbGmsrgl5H",
        "outputId": "93ac4328-1da1-47a2-919b-6bc2fb0f2cce"
      },
      "execution_count": null,
      "outputs": [
        {
          "output_type": "stream",
          "name": "stdout",
          "text": [
            "Digite um número inteiro:9\n",
            "<class 'int'>\n",
            "quociente= 4\n",
            "resto 1\n"
          ]
        }
      ]
    },
    {
      "cell_type": "code",
      "source": [
        "V1=float(input(\"Digite o primeiro numero:\"))\n",
        "V2=float(input(\"Digite o primeiro numero:\"))\n",
        "media=(V1+V2)/2\n",
        "print(\"A media é\",media)"
      ],
      "metadata": {
        "colab": {
          "base_uri": "https://localhost:8080/"
        },
        "id": "4-mOknhji2pG",
        "outputId": "617e6ff2-96b0-4622-eb67-8a5d022c97a9"
      },
      "execution_count": null,
      "outputs": [
        {
          "output_type": "stream",
          "name": "stdout",
          "text": [
            "Digite o primeiro numero:6\n",
            "Digite o primeiro numero:7\n",
            "A media é 6.5\n"
          ]
        }
      ]
    },
    {
      "cell_type": "markdown",
      "source": [
        "#Exemplo 02#"
      ],
      "metadata": {
        "id": "NPrKSsb-lLwu"
      }
    },
    {
      "cell_type": "code",
      "source": [
        "P=float(input(\"Digete o valor em polegadas:\"))\n",
        "mm=25.4*P\n",
        "print(\"valor em mm\",mm)"
      ],
      "metadata": {
        "id": "FThPFFiElUPG",
        "colab": {
          "base_uri": "https://localhost:8080/"
        },
        "outputId": "58d26c5e-c7e3-472c-9c71-bb8f1858ac91"
      },
      "execution_count": 4,
      "outputs": [
        {
          "output_type": "stream",
          "name": "stdout",
          "text": [
            "Digete o valor em polegadas:1\n",
            "valor em mm 25.4\n"
          ]
        }
      ]
    },
    {
      "cell_type": "code",
      "source": [
        "V=float(input(\"digite a tensão:\"))\n",
        "P=float(input(\"digite a potência em Watts:\"))\n",
        "P/(V*3**(1/2)*0.85)"
      ],
      "metadata": {
        "collapsed": true,
        "id": "gKcjk4jEbmFB"
      },
      "execution_count": null,
      "outputs": []
    },
    {
      "cell_type": "markdown",
      "source": [
        "#Exercício 05#"
      ],
      "metadata": {
        "id": "rzM4jPXDewaI"
      }
    },
    {
      "cell_type": "code",
      "source": [
        "R=(float(input(\"digite o valor do raio:\")))\n",
        "from math import pi\n",
        "V=(4*pi*R**3)/3\n",
        "print(\"valor do volume\",V)\n"
      ],
      "metadata": {
        "colab": {
          "base_uri": "https://localhost:8080/"
        },
        "id": "P8un2xY2ewEA",
        "outputId": "1ce51ebe-dc6d-476f-c8c5-4e4e86924e86"
      },
      "execution_count": 16,
      "outputs": [
        {
          "output_type": "stream",
          "name": "stdout",
          "text": [
            "digite o valor do raio:1\n",
            "valor do volume 4.1887902047863905\n"
          ]
        }
      ]
    },
    {
      "cell_type": "markdown",
      "source": [
        "#Exercício 06#"
      ],
      "metadata": {
        "id": "r4s9pVP9g9C0"
      }
    },
    {
      "cell_type": "code",
      "source": [
        "G=(float(input(\"digite o valor do ângulo:\")))\n",
        "from math import pi\n",
        "Rad=(G*(pi/180))\n",
        "print(\"valor do volume\",Rad)"
      ],
      "metadata": {
        "id": "wxhPxfS5hA_c"
      },
      "execution_count": null,
      "outputs": []
    },
    {
      "cell_type": "markdown",
      "source": [
        "#Exercício 07#"
      ],
      "metadata": {
        "id": "akKAmQhph4CM"
      }
    },
    {
      "cell_type": "code",
      "source": [
        "Rad=(float(input(\"digite o valor do radiano:\")))\n",
        "from math import pi\n",
        "G=(Rad*(180/pi))\n",
        "print(\"valor do volume\",G)"
      ],
      "metadata": {
        "id": "iUOFzOEQh7Ps"
      },
      "execution_count": null,
      "outputs": []
    },
    {
      "cell_type": "markdown",
      "source": [
        "#Exercício 08#"
      ],
      "metadata": {
        "id": "xthPa-RXjB32"
      }
    },
    {
      "cell_type": "code",
      "source": [
        "Rad=(float(input(\"digite o valor do radiano:\")))\n",
        "from math import pi\n",
        "Grado=(Rad*(200/pi))\n",
        "print(\"valor do volume\",Grado)"
      ],
      "metadata": {
        "colab": {
          "base_uri": "https://localhost:8080/"
        },
        "id": "Ljkj6xrOjF9f",
        "outputId": "07b071f2-d6c6-427c-b022-57b07d911fc1"
      },
      "execution_count": 29,
      "outputs": [
        {
          "output_type": "stream",
          "name": "stdout",
          "text": [
            "digite o valor do radiano:1\n",
            "valor do volume 63.66197723675813\n"
          ]
        }
      ]
    }
  ]
}