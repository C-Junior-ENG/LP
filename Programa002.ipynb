{
  "nbformat": 4,
  "nbformat_minor": 0,
  "metadata": {
    "colab": {
      "provenance": [],
      "authorship_tag": "ABX9TyPQVU+HW32r9ByT1+Bgczma",
      "include_colab_link": true
    },
    "kernelspec": {
      "name": "python3",
      "display_name": "Python 3"
    },
    "language_info": {
      "name": "python"
    }
  },
  "cells": [
    {
      "cell_type": "markdown",
      "metadata": {
        "id": "view-in-github",
        "colab_type": "text"
      },
      "source": [
        "<a href=\"https://colab.research.google.com/github/C-Junior-ENG/LP/blob/main/Programa002.ipynb\" target=\"_parent\"><img src=\"https://colab.research.google.com/assets/colab-badge.svg\" alt=\"Open In Colab\"/></a>"
      ]
    },
    {
      "cell_type": "markdown",
      "source": [
        "#Primeiro programa aula prof. Massaki#"
      ],
      "metadata": {
        "id": "HMJMON-DefuR"
      }
    },
    {
      "cell_type": "code",
      "execution_count": null,
      "metadata": {
        "colab": {
          "base_uri": "https://localhost:8080/"
        },
        "id": "83TLDkV-d3-o",
        "outputId": "13c9dc98-c02e-43e3-b01f-ab9af4b9f46e"
      },
      "outputs": [
        {
          "output_type": "stream",
          "name": "stdout",
          "text": [
            "<class 'int'>\n",
            "<class 'float'>\n",
            "<class 'float'>\n",
            "5.0\n"
          ]
        }
      ],
      "source": [
        "a=2\n",
        "print(type(a))\n",
        "b=3.0\n",
        "print(type(b))\n",
        "soma=a+b\n",
        "print(type(soma))\n",
        "print(soma)"
      ]
    },
    {
      "cell_type": "markdown",
      "source": [
        "#Importância dos tipos de dados#"
      ],
      "metadata": {
        "id": "aU5eHCBggnjv"
      }
    },
    {
      "cell_type": "code",
      "source": [
        "num=int(input(\"Digite um número inteiro:\"))\n",
        "print(type(num))\n",
        "quoc=num//2\n",
        "resto=num%2\n",
        "print(\"quociente=\",quoc)\n",
        "print(\"resto\", resto)"
      ],
      "metadata": {
        "colab": {
          "base_uri": "https://localhost:8080/"
        },
        "id": "1WWbGmsrgl5H",
        "outputId": "93ac4328-1da1-47a2-919b-6bc2fb0f2cce"
      },
      "execution_count": null,
      "outputs": [
        {
          "output_type": "stream",
          "name": "stdout",
          "text": [
            "Digite um número inteiro:9\n",
            "<class 'int'>\n",
            "quociente= 4\n",
            "resto 1\n"
          ]
        }
      ]
    },
    {
      "cell_type": "code",
      "source": [
        "V1=float(input(\"Digite o primeiro numero:\"))\n",
        "V2=float(input(\"Digite o primeiro numero:\"))\n",
        "media=(V1+V2)/2\n",
        "print(\"A media é\",media)"
      ],
      "metadata": {
        "colab": {
          "base_uri": "https://localhost:8080/"
        },
        "id": "4-mOknhji2pG",
        "outputId": "617e6ff2-96b0-4622-eb67-8a5d022c97a9"
      },
      "execution_count": null,
      "outputs": [
        {
          "output_type": "stream",
          "name": "stdout",
          "text": [
            "Digite o primeiro numero:6\n",
            "Digite o primeiro numero:7\n",
            "A media é 6.5\n"
          ]
        }
      ]
    },
    {
      "cell_type": "markdown",
      "source": [
        "#Exemplo 02#"
      ],
      "metadata": {
        "id": "NPrKSsb-lLwu"
      }
    },
    {
      "cell_type": "code",
      "source": [
        "P=float(input(\"Digete o valor em polegadas:\"))\n",
        "mm=25.4*P\n",
        "print(\"valor em mm\",mm)"
      ],
      "metadata": {
        "id": "FThPFFiElUPG",
        "colab": {
          "base_uri": "https://localhost:8080/"
        },
        "outputId": "58d26c5e-c7e3-472c-9c71-bb8f1858ac91"
      },
      "execution_count": null,
      "outputs": [
        {
          "output_type": "stream",
          "name": "stdout",
          "text": [
            "Digete o valor em polegadas:1\n",
            "valor em mm 25.4\n"
          ]
        }
      ]
    },
    {
      "cell_type": "code",
      "source": [
        "V=float(input(\"digite a tensão:\"))\n",
        "P=float(input(\"digite a potência em Watts:\"))\n",
        "P/(V*3**(1/2)*0.85)"
      ],
      "metadata": {
        "collapsed": true,
        "id": "gKcjk4jEbmFB"
      },
      "execution_count": null,
      "outputs": []
    },
    {
      "cell_type": "markdown",
      "source": [
        "#Exercício 05#"
      ],
      "metadata": {
        "id": "rzM4jPXDewaI"
      }
    },
    {
      "cell_type": "code",
      "source": [
        "R=(float(input(\"digite o valor do raio:\")))\n",
        "from math import pi\n",
        "V=(4*pi*R**3)/3\n",
        "print(\"valor do volume\",V)\n"
      ],
      "metadata": {
        "colab": {
          "base_uri": "https://localhost:8080/"
        },
        "id": "P8un2xY2ewEA",
        "outputId": "1ce51ebe-dc6d-476f-c8c5-4e4e86924e86"
      },
      "execution_count": null,
      "outputs": [
        {
          "output_type": "stream",
          "name": "stdout",
          "text": [
            "digite o valor do raio:1\n",
            "valor do volume 4.1887902047863905\n"
          ]
        }
      ]
    },
    {
      "cell_type": "markdown",
      "source": [
        "#Exercício 06#"
      ],
      "metadata": {
        "id": "r4s9pVP9g9C0"
      }
    },
    {
      "cell_type": "code",
      "source": [
        "G=(float(input(\"digite o valor do ângulo:\")))\n",
        "from math import pi\n",
        "Rad=(G*(pi/180))\n",
        "print(\"valor do volume\",Rad)"
      ],
      "metadata": {
        "id": "wxhPxfS5hA_c"
      },
      "execution_count": null,
      "outputs": []
    },
    {
      "cell_type": "markdown",
      "source": [
        "#Exercício 07#"
      ],
      "metadata": {
        "id": "akKAmQhph4CM"
      }
    },
    {
      "cell_type": "code",
      "source": [
        "Rad=(float(input(\"digite o valor do radiano:\")))\n",
        "from math import pi\n",
        "G=(Rad*(180/pi))\n",
        "print(\"valor do volume\",G)"
      ],
      "metadata": {
        "id": "iUOFzOEQh7Ps"
      },
      "execution_count": null,
      "outputs": []
    },
    {
      "cell_type": "markdown",
      "source": [
        "#Exercício 08#"
      ],
      "metadata": {
        "id": "xthPa-RXjB32"
      }
    },
    {
      "cell_type": "code",
      "source": [
        "Rad=(float(input(\"digite o valor do radiano:\")))\n",
        "from math import pi\n",
        "Grado=(Rad*(200/pi))\n",
        "print(\"valor do volume\",Grado)"
      ],
      "metadata": {
        "colab": {
          "base_uri": "https://localhost:8080/"
        },
        "id": "Ljkj6xrOjF9f",
        "outputId": "07b071f2-d6c6-427c-b022-57b07d911fc1"
      },
      "execution_count": null,
      "outputs": [
        {
          "output_type": "stream",
          "name": "stdout",
          "text": [
            "digite o valor do radiano:1\n",
            "valor do volume 63.66197723675813\n"
          ]
        }
      ]
    },
    {
      "cell_type": "markdown",
      "source": [
        "#EXEMPLO 03#"
      ],
      "metadata": {
        "id": "r4CF4mrPd-MF"
      }
    },
    {
      "cell_type": "code",
      "source": [
        "numero=int(input(\"digite um número inteiro:\"))\n",
        "if numero%2==0:\n",
        "  print(f\"o número {numero} é par.\")\n",
        "else:\n",
        "  print(f\"o número {numero} é impar\")"
      ],
      "metadata": {
        "id": "iaF8IkPyeBpc",
        "outputId": "46023f19-6856-4042-dff2-c177c7f8c32b",
        "colab": {
          "base_uri": "https://localhost:8080/"
        }
      },
      "execution_count": null,
      "outputs": [
        {
          "output_type": "stream",
          "name": "stdout",
          "text": [
            "digete um número inteiro:225\n",
            "o número 225 é impar\n"
          ]
        }
      ]
    },
    {
      "cell_type": "markdown",
      "source": [
        "#EXEMPLO 04#"
      ],
      "metadata": {
        "id": "SO8lfepjgSzd"
      }
    },
    {
      "cell_type": "code",
      "source": [
        "import math\n",
        "numero=float(input(\"Digite um número: \"))\n",
        "if numero>=0:\n",
        "  raiz_quadrada=math.sqrt(numero)\n",
        "  print(f\"A raiz quadrada de {numero} é {raiz_quadrada:.2f}.\")\n",
        "else:\n",
        "  print(\"Não existe raiz real para este número!\")"
      ],
      "metadata": {
        "colab": {
          "base_uri": "https://localhost:8080/"
        },
        "id": "8tEMzXJvgZSj",
        "outputId": "aba046ab-5026-4621-e243-3b86fdc71d07"
      },
      "execution_count": null,
      "outputs": [
        {
          "output_type": "stream",
          "name": "stdout",
          "text": [
            "Digite um número: 22\n",
            "A raiz quadrada de 22.0 é 4.69.\n"
          ]
        }
      ]
    },
    {
      "cell_type": "markdown",
      "source": [
        "#EXERCÍCIO 05#"
      ],
      "metadata": {
        "id": "k_c_cUgZiZHT"
      }
    },
    {
      "cell_type": "code",
      "source": [
        "comprimento=float(input(\"Digite o comprimento da camiseta em centímetro \"))\n",
        "largura=float(input(\"Digite a largura da camiseta em centímetro \"))\n",
        "if comprimento<=60 and largura<=45:\n",
        "  Tamanho=\"PP\"\n",
        "elif comprimento<=65 and largura<=48:\n",
        "  Tamanho=\"P\"\n",
        "elif comprimento<=70 and largura<=51:\n",
        "  Tamanho=\"M\"\n",
        "elif comprimento<=75 and largura<=54:\n",
        "  Tamanho=\"G\"\n",
        "elif comprimento<=80 and largura<=57:\n",
        "  Tamanho=\"GG\"\n",
        "else:\n",
        "  Tamanho=\"XGG\"\n",
        "print(f\"O tamanho da camiseta é {Tamanho}.\")"
      ],
      "metadata": {
        "colab": {
          "base_uri": "https://localhost:8080/"
        },
        "id": "_3Piv4ghidtj",
        "outputId": "6964b0f3-f440-41c7-fb46-99d43fb52703"
      },
      "execution_count": null,
      "outputs": [
        {
          "output_type": "stream",
          "name": "stdout",
          "text": [
            "Digite o comprimento da camiseta em centímetro 72\n",
            "Digite a largura da camiseta em centímetro 52\n",
            "O tamanho da camiseta é G.\n"
          ]
        }
      ]
    },
    {
      "cell_type": "markdown",
      "source": [
        "#EXERCÍCIO EXTRA 01#"
      ],
      "metadata": {
        "id": "wO2V2VpKgbx0"
      }
    },
    {
      "cell_type": "code",
      "source": [
        "numero=int(input(\"digite um número inteiro:\"))\n",
        "r=numero/3\n",
        "if numero%r==0:\n",
        "  print(f\"o número {numero} é Múltiplo.\")\n",
        "else:\n",
        "  print(f\"o número {numero} é Não Multiplo\")"
      ],
      "metadata": {
        "id": "jCBc3FPsghYd",
        "outputId": "762562d9-0f88-4ca4-cd66-8d8d8f0f171f",
        "colab": {
          "base_uri": "https://localhost:8080/"
        }
      },
      "execution_count": 25,
      "outputs": [
        {
          "output_type": "stream",
          "name": "stdout",
          "text": [
            "digite um número inteiro:3\n",
            "o número 3 é Múltiplo.\n"
          ]
        }
      ]
    },
    {
      "cell_type": "markdown",
      "source": [
        "#EXERCÍCIO EXTRA 02#"
      ],
      "metadata": {
        "id": "X0BR58d6j6oL"
      }
    },
    {
      "cell_type": "code",
      "source": [
        "n1=float(input(\"digite a nota 1:\"))\n",
        "n2=float(input(\"digite a nota 2:\"))\n",
        "media=(2*n1+3*n2)/5\n",
        "if media>=5:\n",
        "  print(f\"Aluno foi aprovado com média {media}\")\n",
        "else:\n",
        "    print(f\"Aluno foi reprovado com média {media}\")"
      ],
      "metadata": {
        "colab": {
          "base_uri": "https://localhost:8080/"
        },
        "collapsed": true,
        "id": "mwl4YsCvj-sj",
        "outputId": "24fcf74c-a152-4551-9d85-db8d8b69b997"
      },
      "execution_count": 31,
      "outputs": [
        {
          "output_type": "stream",
          "name": "stdout",
          "text": [
            "digite a nota 1:3.6\n",
            "digite a nota 2:9.8\n",
            "Aluno foi aprovado com média 7.32\n"
          ]
        }
      ]
    },
    {
      "cell_type": "markdown",
      "source": [
        "#EXERCÍCIO EXTRA 03#"
      ],
      "metadata": {
        "id": "ZAxPozKEq04y"
      }
    },
    {
      "cell_type": "code",
      "source": [],
      "metadata": {
        "id": "9AclO_9Dq5Wb"
      },
      "execution_count": null,
      "outputs": []
    }
  ]
}