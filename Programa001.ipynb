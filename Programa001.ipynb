{
  "nbformat": 4,
  "nbformat_minor": 0,
  "metadata": {
    "colab": {
      "provenance": [],
      "authorship_tag": "ABX9TyNHQYJ5+dpxifgnqv0aBg8q",
      "include_colab_link": true
    },
    "kernelspec": {
      "name": "python3",
      "display_name": "Python 3"
    },
    "language_info": {
      "name": "python"
    }
  },
  "cells": [
    {
      "cell_type": "markdown",
      "metadata": {
        "id": "view-in-github",
        "colab_type": "text"
      },
      "source": [
        "<a href=\"https://colab.research.google.com/github/C-Junior-ENG/LP/blob/main/Programa001.ipynb\" target=\"_parent\"><img src=\"https://colab.research.google.com/assets/colab-badge.svg\" alt=\"Open In Colab\"/></a>"
      ]
    },
    {
      "cell_type": "markdown",
      "source": [
        "#Primeiro programa aula prof. Massaki#"
      ],
      "metadata": {
        "id": "HMJMON-DefuR"
      }
    },
    {
      "cell_type": "code",
      "execution_count": 5,
      "metadata": {
        "colab": {
          "base_uri": "https://localhost:8080/"
        },
        "id": "83TLDkV-d3-o",
        "outputId": "13c9dc98-c02e-43e3-b01f-ab9af4b9f46e"
      },
      "outputs": [
        {
          "output_type": "stream",
          "name": "stdout",
          "text": [
            "<class 'int'>\n",
            "<class 'float'>\n",
            "<class 'float'>\n",
            "5.0\n"
          ]
        }
      ],
      "source": [
        "a=2\n",
        "print(type(a))\n",
        "b=3.0\n",
        "print(type(b))\n",
        "soma=a+b\n",
        "print(type(soma))\n",
        "print(soma)"
      ]
    },
    {
      "cell_type": "markdown",
      "source": [
        "#Importância dos tipos de dados#"
      ],
      "metadata": {
        "id": "aU5eHCBggnjv"
      }
    },
    {
      "cell_type": "code",
      "source": [
        "num=int(input(\"Digite um número inteiro:\"))\n",
        "print(type(num))\n",
        "quoc=num//2\n",
        "resto=num%2\n",
        "print(\"quociente=\",quoc)\n",
        "print(\"resto\", resto)"
      ],
      "metadata": {
        "colab": {
          "base_uri": "https://localhost:8080/"
        },
        "id": "1WWbGmsrgl5H",
        "outputId": "93ac4328-1da1-47a2-919b-6bc2fb0f2cce"
      },
      "execution_count": 12,
      "outputs": [
        {
          "output_type": "stream",
          "name": "stdout",
          "text": [
            "Digite um número inteiro:9\n",
            "<class 'int'>\n",
            "quociente= 4\n",
            "resto 1\n"
          ]
        }
      ]
    },
    {
      "cell_type": "code",
      "source": [
        "V1=float(input(\"Digite o primeiro numero:\"))\n",
        "V2=float(input(\"Digite o primeiro numero:\"))\n",
        "media=(V1+V2)/2\n",
        "print(\"A media é\",media)"
      ],
      "metadata": {
        "colab": {
          "base_uri": "https://localhost:8080/"
        },
        "id": "4-mOknhji2pG",
        "outputId": "617e6ff2-96b0-4622-eb67-8a5d022c97a9"
      },
      "execution_count": 17,
      "outputs": [
        {
          "output_type": "stream",
          "name": "stdout",
          "text": [
            "Digite o primeiro numero:6\n",
            "Digite o primeiro numero:7\n",
            "A media é 6.5\n"
          ]
        }
      ]
    }
  ]
}